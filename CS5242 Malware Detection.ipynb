{
 "cells": [
  {
   "cell_type": "markdown",
   "metadata": {},
   "source": [
    "# Topic: Malware Detection for PE header\n",
    "### Contributer: Zhou Shaowen, Zhao Mengdan\n",
    "#### Kaggle Link: https://www.kaggle.com/c/cs5242-malware-detection/team\n",
    "Description: This is a prototype project for validating the DNN models"
   ]
  },
  {
   "cell_type": "code",
   "execution_count": 1,
   "metadata": {},
   "outputs": [
    {
     "name": "stderr",
     "output_type": "stream",
     "text": [
      "/Users/dan/anaconda3/lib/python3.6/site-packages/h5py/__init__.py:36: FutureWarning: Conversion of the second argument of issubdtype from `float` to `np.floating` is deprecated. In future, it will be treated as `np.float64 == np.dtype(float).type`.\n",
      "  from ._conv import register_converters as _register_converters\n",
      "Using TensorFlow backend.\n"
     ]
    }
   ],
   "source": [
    "import pandas as pd\n",
    "import keras\n",
    "import numpy as np\n",
    "import matplotlib.pyplot as plt\n",
    "import matplotlib\n",
    "from PIL import Image\n",
    "from matplotlib.pyplot import imshow\n",
    "from sklearn.model_selection import train_test_split\n",
    "%matplotlib inline"
   ]
  },
  {
   "cell_type": "markdown",
   "metadata": {},
   "source": [
    "## Step 1: Input Sample Data"
   ]
  },
  {
   "cell_type": "code",
   "execution_count": 8,
   "metadata": {},
   "outputs": [],
   "source": [
    "sample_data_file = \"./Data/sample_data.csv\"\n",
    "sample_label_file = \"./Data/sample_label.csv\"\n",
    "sample_data = pd.read_csv(sample_data_file)\n",
    "sample_label = pd.read_csv(sample_label_file)"
   ]
  },
  {
   "cell_type": "code",
   "execution_count": 9,
   "metadata": {},
   "outputs": [
    {
     "name": "stdout",
     "output_type": "stream",
     "text": [
      "Number of Columns:\n",
      " 4096 \n",
      "\n",
      "\n",
      "Data:\n",
      "    77  90  144  0  3  0.1  0.2  0.3  4  0.4   ...    0.3860  0.3861  0.3862  \\\n",
      "0  77  90  144  0  3    0    0    0  4    0   ...       NaN     NaN     NaN   \n",
      "1  77  90  144  0  3    0    0    0  4    0   ...       NaN     NaN     NaN   \n",
      "2  77  90  144  0  3    0    0    0  4    0   ...       NaN     NaN     NaN   \n",
      "3  77  90  144  0  3    0    0    0  4    0   ...       NaN     NaN     NaN   \n",
      "4  77  90  144  0  3    0    0    0  4    0   ...       NaN     NaN     NaN   \n",
      "\n",
      "   0.3863  0.3864  0.3865  0.3866  0.3867  0.3868  0.3869  \n",
      "0     NaN     NaN     NaN     NaN     NaN     NaN     NaN  \n",
      "1     NaN     NaN     NaN     NaN     NaN     NaN     NaN  \n",
      "2     NaN     NaN     NaN     NaN     NaN     NaN     NaN  \n",
      "3     NaN     NaN     NaN     NaN     NaN     NaN     NaN  \n",
      "4     NaN     NaN     NaN     NaN     NaN     NaN     NaN  \n",
      "\n",
      "[5 rows x 4096 columns] \n",
      "\n",
      "\n",
      "Size of train data(m):\n",
      " 499\n"
     ]
    }
   ],
   "source": [
    "print (\"Number of Columns:\\n\", sample_data.shape[1], \"\\n\\n\")\n",
    "print (\"Data:\\n\", sample_data.head(), \"\\n\\n\")\n",
    "print (\"Size of train data(m):\\n\", sample_data.shape[0])"
   ]
  },
  {
   "cell_type": "code",
   "execution_count": null,
   "metadata": {},
   "outputs": [],
   "source": []
  }
 ],
 "metadata": {
  "kernelspec": {
   "display_name": "Python 3",
   "language": "python",
   "name": "python3"
  },
  "language_info": {
   "codemirror_mode": {
    "name": "ipython",
    "version": 3
   },
   "file_extension": ".py",
   "mimetype": "text/x-python",
   "name": "python",
   "nbconvert_exporter": "python",
   "pygments_lexer": "ipython3",
   "version": "3.6.4"
  }
 },
 "nbformat": 4,
 "nbformat_minor": 2
}
